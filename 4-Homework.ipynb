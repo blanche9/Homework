{
 "cells": [
  {
   "attachments": {},
   "cell_type": "markdown",
   "metadata": {},
   "source": [
    "1. __What does one need to do to use a module?__\n",
    "    \n",
    "    We need to import the respective module into our code-base by using the import statement.\n",
    "1. __Name a Module (not the DateTime Nodule) we looked at and write a line or 2 of code as an example using this module.__\n"
   ]
  },
  {
   "cell_type": "code",
   "execution_count": 2,
   "metadata": {},
   "outputs": [
    {
     "name": "stdout",
     "output_type": "stream",
     "text": [
      "3.141592653589793\n"
     ]
    }
   ],
   "source": [
    "import math\n",
    "print(math.pi)"
   ]
  },
  {
   "attachments": {},
   "cell_type": "markdown",
   "metadata": {},
   "source": [
    "3. __What is a benefit of using Exception handling?__\n",
    "    \n",
    "    With this code device we can keep going past many errors.\n",
    "\n",
    "1. __what are the 4 components used for Python Exception Handling?__\n",
    "    \n",
    "    * try\n",
    "    * except\n",
    "    * else\n",
    "    * finally\n",
    "1. __NumPy arrays are like what Python data type?__\n",
    "\n",
    "    List\n",
    "\n",
    "1. __What is one of the main benefits of using NumPy arrays.__\n",
    "\n",
    "    * Less memory usage.\n",
    "    * Fast and Convenient.\n",
    "\n",
    "1. __What is one of the main requirements about the 'dtype' of NumPy arrays?__\n",
    "\n",
    "    You need to explicitly specify which data type you want.\n",
    "1. __Of the 10 uses of NumPy, name 2.__\n",
    "\n",
    "    * Searching, sorting, counting. \n",
    "\n",
    "    * Mathematical Operations.\n",
    "\n",
    "1. __Name one of the other libraries we'll use with NumPy?__\n",
    "    * Pandas\n",
    "\n",
    "\n",
    "1. __What is the shape of NumPy arrays?__\n",
    "\n",
    "    The number of dimesions and items in an array.\n",
    "1. __What is a Tensor?__\n",
    "\n",
    "    An array with more than 3 dimensions.\n",
    "1. __Name a reason why it's better using NumPy for Data Analysis than using a Python List?__\n",
    "\n",
    "    List stores items that are of various data types, \n",
    "    while arrays store only elements of the same data type.\n",
    "\n",
    "1. __When creating an \"empty\" array, where do the elements come from?__\n",
    "    The function empty creates an array whose initial content is random and depends on the state of the memory.\n"
   ]
  },
  {
   "cell_type": "code",
   "execution_count": 8,
   "metadata": {},
   "outputs": [
    {
     "name": "stdout",
     "output_type": "stream",
     "text": [
      "The current month is:  February\n"
     ]
    }
   ],
   "source": [
    "#Use the DateTime module to get Current Date and Time, and save it to a variable. Then extract just the Full month name form that variable.\n",
    "import datetime as dt\n",
    "\n",
    "x = dt.datetime.now()\n",
    "\n",
    "print (\"The current month is: \", x.strftime(\"%B\"))"
   ]
  },
  {
   "cell_type": "code",
   "execution_count": 23,
   "metadata": {},
   "outputs": [
    {
     "name": "stdout",
     "output_type": "stream",
     "text": [
      "Hi Blanche! Happy Sunday!\n",
      "Hi Timmy! Happy Monday!\n"
     ]
    }
   ],
   "source": [
    "# 2)\n",
    "def info (firstName, dayName = \"Sunday\"):\n",
    "    print (\"Hi\", firstName+\"! Happy \"+dayName+\"!\")  \n",
    "\n",
    "info(\"Blanche\")\n",
    "\n",
    "info(\"Timmy\", \"Monday\")"
   ]
  },
  {
   "cell_type": "code",
   "execution_count": 46,
   "metadata": {},
   "outputs": [
    {
     "name": "stdout",
     "output_type": "stream",
     "text": [
      "An exception has occured\n"
     ]
    }
   ],
   "source": [
    "#3\n",
    "\n",
    "try:     \n",
    "    print(y)\n",
    "except:\n",
    "    print (\"An exception has occured\")"
   ]
  },
  {
   "cell_type": "code",
   "execution_count": 54,
   "metadata": {},
   "outputs": [
    {
     "name": "stdout",
     "output_type": "stream",
     "text": [
      "y\n",
      "Working\n"
     ]
    }
   ],
   "source": [
    "#3\n",
    "\n",
    "try:     \n",
    "    print(\"y\")\n",
    "except:\n",
    "    print (\"An exception has occured\")\n",
    "\n",
    "else:\n",
    "    print(\"Working\")"
   ]
  },
  {
   "cell_type": "code",
   "execution_count": 55,
   "metadata": {},
   "outputs": [
    {
     "name": "stdout",
     "output_type": "stream",
     "text": [
      "Something went wrong\n",
      "The 'try except' is finished\n"
     ]
    }
   ],
   "source": [
    "\n",
    "try:\n",
    "    print(y)\n",
    "except:\n",
    "    print(\"Something went wrong\")\n",
    "finally:\n",
    "    print(\"The 'try except' is finished\")"
   ]
  },
  {
   "cell_type": "code",
   "execution_count": 57,
   "metadata": {},
   "outputs": [
    {
     "data": {
      "text/plain": [
       "array([[[ 0,  1],\n",
       "        [ 2,  3],\n",
       "        [ 4,  5]],\n",
       "\n",
       "       [[ 6,  7],\n",
       "        [ 8,  9],\n",
       "        [10, 11]]])"
      ]
     },
     "execution_count": 57,
     "metadata": {},
     "output_type": "execute_result"
    }
   ],
   "source": [
    "#4\n",
    "import numpy as np\n",
    "\n",
    "array1 = np.arange(12).reshape(2,3,2)\n",
    "\n",
    "array1\n"
   ]
  },
  {
   "cell_type": "code",
   "execution_count": 59,
   "metadata": {},
   "outputs": [
    {
     "data": {
      "text/plain": [
       "array([ 0.,  4.,  8., 12., 16., 20.])"
      ]
     },
     "execution_count": 59,
     "metadata": {},
     "output_type": "execute_result"
    }
   ],
   "source": [
    "#5\n",
    "import numpy as np\n",
    "\n",
    "q5 = np.linspace(0,20, 6)\n",
    "\n",
    "q5"
   ]
  },
  {
   "cell_type": "code",
   "execution_count": 63,
   "metadata": {},
   "outputs": [
    {
     "name": "stdout",
     "output_type": "stream",
     "text": [
      "[ 0.  4.  8. 12. 16. 20.]\n"
     ]
    }
   ],
   "source": [
    "#6\n",
    "import copy\n",
    "\n",
    "q6 = copy.deepcopy(q5)\n",
    "\n",
    "print (q6)"
   ]
  },
  {
   "cell_type": "code",
   "execution_count": 66,
   "metadata": {},
   "outputs": [
    {
     "name": "stdout",
     "output_type": "stream",
     "text": [
      "The multiplication of array 1 and array 2 is: \n",
      "\n",
      "[[0.568  0.4189 0.71   0.7881]\n",
      " [0.08   0.059  0.1    0.111 ]\n",
      " [0.192  0.1416 0.24   0.2664]\n",
      " [0.24   0.177  0.3    0.333 ]]\n"
     ]
    }
   ],
   "source": [
    "# 'broadcast' the addition of a 1-D array to a 2-D array\n",
    "from numpy import array, newaxis\n",
    "\n",
    "arr1= array ([0.71, 0.1, 0.24, 0.3])\n",
    "arr2= array ([0.8, 0.59, 1.0, 1.11])\n",
    "\n",
    "print (\"The multiplication of array 1 and array 2 is: \\n\")\n",
    "print (arr1[:,newaxis]* arr2)\n",
    "\n"
   ]
  }
 ],
 "metadata": {
  "kernelspec": {
   "display_name": "Python 3",
   "language": "python",
   "name": "python3"
  },
  "language_info": {
   "codemirror_mode": {
    "name": "ipython",
    "version": 3
   },
   "file_extension": ".py",
   "mimetype": "text/x-python",
   "name": "python",
   "nbconvert_exporter": "python",
   "pygments_lexer": "ipython3",
   "version": "3.11.1"
  },
  "orig_nbformat": 4,
  "vscode": {
   "interpreter": {
    "hash": "aee8b7b246df8f9039afb4144a1f6fd8d2ca17a180786b69acc140d282b71a49"
   }
  }
 },
 "nbformat": 4,
 "nbformat_minor": 2
}
