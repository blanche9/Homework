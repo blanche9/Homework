{
 "cells": [
  {
   "attachments": {},
   "cell_type": "markdown",
   "metadata": {},
   "source": [
    "1. **What does Pandas stand for?**\n",
    "\n",
    "    It is derived from the word \"Panel Data\"\n",
    "1. **What are the 2 collections used in Pandas?**\n",
    "\n",
    "    Series and DataFrames\n",
    "1. **Name 4 things Pandas can do for us.**\n",
    "\n",
    "    * Data cleansing\n",
    "    * Data normalization\n",
    "    * Data visualization\n",
    "    * Data inspection\n",
    "1. **To permanently sort a DataFrame, which keyword should one use with the df.sort() method?**\n",
    "\n",
    "    values\n",
    "1. **What is a CSV**\n",
    "\n",
    "    Comma Separated Values which stores data in a table format.\n",
    "1. **When cleaning data what values do we not like in our data?**\n",
    "\n",
    "    Duplicates"
   ]
  },
  {
   "cell_type": "code",
   "execution_count": 2,
   "metadata": {},
   "outputs": [
    {
     "data": {
      "text/plain": [
       "array([[25, 16],\n",
       "       [11,  2],\n",
       "       [13,  4],\n",
       "       [ 7, 81],\n",
       "       [ 5,  6],\n",
       "       [11, 12]])"
      ]
     },
     "execution_count": 2,
     "metadata": {},
     "output_type": "execute_result"
    }
   ],
   "source": [
    "#1 Concatenate these 3 arrays into a new array named newArray\n",
    "import numpy as np\n",
    "array1= np.array([[25, 16]])\n",
    "array2= np.array ([[11, 2], [13, 4]])\n",
    "array3= np.array([[7, 81], [5, 6], [11, 12]])\n",
    "\n",
    "newArray= np.concatenate((array1, array2, array3))\n",
    "newArray"
   ]
  },
  {
   "cell_type": "code",
   "execution_count": 6,
   "metadata": {},
   "outputs": [
    {
     "data": {
      "text/plain": [
       "array([[16, 25],\n",
       "       [ 2, 11],\n",
       "       [ 4, 13],\n",
       "       [ 7, 81],\n",
       "       [ 5,  6],\n",
       "       [11, 12]])"
      ]
     },
     "execution_count": 6,
     "metadata": {},
     "output_type": "execute_result"
    }
   ],
   "source": [
    "#2 Sort 'newArray' in order into 'sortedArray'\n",
    "\n",
    "sortedArray=np.sort(newArray)\n",
    "sortedArray"
   ]
  },
  {
   "cell_type": "code",
   "execution_count": 16,
   "metadata": {},
   "outputs": [
    {
     "data": {
      "text/plain": [
       "array([[[16, 25,  2],\n",
       "        [11,  4, 13]],\n",
       "\n",
       "       [[ 7, 81,  5],\n",
       "        [ 6, 11, 12]]])"
      ]
     },
     "execution_count": 16,
     "metadata": {},
     "output_type": "execute_result"
    }
   ],
   "source": [
    "#3 Reshape the 'sortedArray' array, into a new array called 'reshapedArray', so it has 2 dimensions with a size of 2, 3.\n",
    "\n",
    "reshapedArray = np.reshape(sortedArray,(2,2,3) )\n",
    "reshapedArray"
   ]
  },
  {
   "cell_type": "code",
   "execution_count": 26,
   "metadata": {},
   "outputs": [
    {
     "name": "stdout",
     "output_type": "stream",
     "text": [
      "[16 25  2]\n",
      "\n",
      " [11  4 13]\n",
      "\n",
      " [ 7 81  5]\n",
      "\n",
      " [ 6 11 12]\n"
     ]
    }
   ],
   "source": [
    "#4 Unpack the array tuples from the above 'reshapedArray' into 4 well named variables. Print the 4 variables.\n",
    "\n",
    "a , b = reshapedArray\n",
    "\n",
    "a1 , a2 = a\n",
    "b1 , b2 = b\n",
    "\n",
    "print(a1)\n",
    "print(\"\\n\",a2)\n",
    "print(\"\\n\",b1)\n",
    "print(\"\\n\",b2)"
   ]
  },
  {
   "cell_type": "code",
   "execution_count": 37,
   "metadata": {},
   "outputs": [
    {
     "data": {
      "text/plain": [
       "array([ 0,  1,  2,  3,  4,  5,  6,  7, 10, 11, 12, 13, 14, 15, 16, 17, 20,\n",
       "       21, 22, 23, 24, 25, 26, 27])"
      ]
     },
     "execution_count": 37,
     "metadata": {},
     "output_type": "execute_result"
    }
   ],
   "source": [
    "# Combined and sort the following arrays into one called 'comboArray' ...\n",
    "one = ([10, 11, 12, 13, 14, 15, 16, 17])\n",
    "two = ([20, 21, 22, 23, 24, 25, 26, 27])\n",
    "three = ([ 0, 1, 2, 3, 4, 5, 6, 7])\n",
    "\n",
    "comboArray = np.concatenate((one,two,three))\n",
    "comboArray=np.sort(comboArray)\n",
    "comboArray"
   ]
  },
  {
   "cell_type": "code",
   "execution_count": 64,
   "metadata": {},
   "outputs": [
    {
     "name": "stdout",
     "output_type": "stream",
     "text": [
      "1\n",
      "[ 2  3  4  5  6  7 10 11 12 13 14 15 16 17 20 21 22 23 24 25 26 27]\n",
      "[ 3  4  5  6  7 10 11 12 13 14]\n",
      "[22 23 24 25 26 27]\n",
      "[ 0  1  2  3  4  5  6  7 10 11 12 13 14 15 16 17]\n",
      "[24 25 26 27]\n",
      "[27 22 15 10  3]\n"
     ]
    }
   ],
   "source": [
    "#6\n",
    "print(comboArray[1])\n",
    "print(comboArray[2:])\n",
    "print(comboArray[3:13])\n",
    "print(comboArray[-6:])\n",
    "print(comboArray[0:-8])\n",
    "print(comboArray[20:])\n",
    "print(comboArray[::-1][::5])\n"
   ]
  },
  {
   "cell_type": "code",
   "execution_count": 69,
   "metadata": {},
   "outputs": [
    {
     "name": "stdout",
     "output_type": "stream",
     "text": [
      "Addition: \n",
      " [[[ 17.    70.    10.8 ]\n",
      "  [ 27.    80.3   20.71]]\n",
      "\n",
      " [[ 37.    90.02  30.8 ]\n",
      "  [ 47.   101.    41.  ]]\n",
      "\n",
      " [[ 57.4   94.    50.7 ]\n",
      "  [ 32.    85.5   36.2 ]]] \n",
      "\n",
      "Division: \n",
      " [[[0.         0.         0.00934579]\n",
      "  [0.58823529 0.14714286 0.93551402]]\n",
      "\n",
      " [[1.17647059 0.286      1.87850467]\n",
      "  [1.76470588 0.44285714 2.8317757 ]]\n",
      "\n",
      " [[2.37647059 0.34285714 3.73831776]\n",
      "  [0.88235294 0.22142857 2.38317757]]] \n",
      "\n",
      "Multiplication: \n",
      " [[[0.00000e+00 0.00000e+00 1.07000e+00]\n",
      "  [1.70000e+02 7.21000e+02 1.07107e+02]]\n",
      "\n",
      " [[3.40000e+02 1.40140e+03 2.15070e+02]\n",
      "  [5.10000e+02 2.17000e+03 3.24210e+02]]\n",
      "\n",
      " [[6.86800e+02 1.68000e+03 4.28000e+02]\n",
      "  [2.55000e+02 1.08500e+03 2.72850e+02]]] \n",
      "\n"
     ]
    }
   ],
   "source": [
    "#7 Using simple math operations, broadcast the addition (+), division (/), and multiplication (*) operations for these 2 arrays -\n",
    "arraya = ([[[ 0.0,  0.0,  0.10], [10.0, 10.30, 10.01]],\n",
    "        [[20.0, 20.02, 20.10], [30.0, 31.0, 30.30]],\n",
    "        [[40.40, 24.0, 40.0], [15.0, 15.5, 25.5]]])\n",
    "arrayb = ([[17.0, 70.0, 10.7]])\n",
    "addition= np.add(arraya, arrayb)\n",
    "division= np.divide(arraya,arrayb)\n",
    "multiplication= np.multiply(arraya, arrayb)\n",
    "\n",
    "print(\"Addition: \\n\", addition ,\"\\n\")\n",
    "print(\"Division: \\n\", division, '\\n')\n",
    "print(\"Multiplication: \\n\", multiplication, '\\n')"
   ]
  },
  {
   "cell_type": "code",
   "execution_count": 70,
   "metadata": {},
   "outputs": [
    {
     "name": "stdout",
     "output_type": "stream",
     "text": [
      "Substraction: \n",
      " [[[-17.   -70.   -10.6 ]\n",
      "  [ -7.   -59.7   -0.69]]\n",
      "\n",
      " [[  3.   -49.98   9.4 ]\n",
      "  [ 13.   -39.    19.6 ]]\n",
      "\n",
      " [[ 23.4  -46.    29.3 ]\n",
      "  [ -2.   -54.5   14.8 ]]]\n"
     ]
    }
   ],
   "source": [
    "#8 Use the NumPy Arithmetic functions to do the subtraction of the above two arrays in pont #7.\n",
    "\n",
    "Substraction = np.subtract(arraya, arrayb)\n",
    "print ('Substraction: \\n', Substraction)"
   ]
  },
  {
   "cell_type": "code",
   "execution_count": 80,
   "metadata": {},
   "outputs": [
    {
     "data": {
      "text/plain": [
       "array([[[1.  , 2.  , 1.4 ],\n",
       "        [2.  , 0.3 , 2.31]],\n",
       "\n",
       "       [[0.  , 1.02, 0.4 ],\n",
       "        [1.  , 0.  , 1.6 ]],\n",
       "\n",
       "       [[2.4 , 2.  , 2.3 ],\n",
       "        [1.  , 2.5 , 2.8 ]]])"
      ]
     },
     "execution_count": 80,
     "metadata": {},
     "output_type": "execute_result"
    }
   ],
   "source": [
    "#9\n",
    "modulo = np.mod(Substraction,3)\n",
    "modulo"
   ]
  },
  {
   "cell_type": "code",
   "execution_count": 113,
   "metadata": {},
   "outputs": [
    {
     "data": {
      "text/html": [
       "<div>\n",
       "<style scoped>\n",
       "    .dataframe tbody tr th:only-of-type {\n",
       "        vertical-align: middle;\n",
       "    }\n",
       "\n",
       "    .dataframe tbody tr th {\n",
       "        vertical-align: top;\n",
       "    }\n",
       "\n",
       "    .dataframe thead th {\n",
       "        text-align: right;\n",
       "    }\n",
       "</style>\n",
       "<table border=\"1\" class=\"dataframe\">\n",
       "  <thead>\n",
       "    <tr style=\"text-align: right;\">\n",
       "      <th></th>\n",
       "      <th>Ingredients</th>\n",
       "      <th>Quantity</th>\n",
       "      <th>Unit</th>\n",
       "    </tr>\n",
       "  </thead>\n",
       "  <tbody>\n",
       "    <tr>\n",
       "      <th>0</th>\n",
       "      <td>Flour</td>\n",
       "      <td>4</td>\n",
       "      <td>cups</td>\n",
       "    </tr>\n",
       "    <tr>\n",
       "      <th>1</th>\n",
       "      <td>Milk</td>\n",
       "      <td>1</td>\n",
       "      <td>cup</td>\n",
       "    </tr>\n",
       "    <tr>\n",
       "      <th>2</th>\n",
       "      <td>Eggs</td>\n",
       "      <td>2</td>\n",
       "      <td>large</td>\n",
       "    </tr>\n",
       "    <tr>\n",
       "      <th>3</th>\n",
       "      <td>Spam</td>\n",
       "      <td>1</td>\n",
       "      <td>can</td>\n",
       "    </tr>\n",
       "  </tbody>\n",
       "</table>\n",
       "</div>"
      ],
      "text/plain": [
       "  Ingredients  Quantity   Unit\n",
       "0       Flour         4   cups\n",
       "1        Milk         1    cup\n",
       "2        Eggs         2  large\n",
       "3        Spam         1    can"
      ]
     },
     "execution_count": 113,
     "metadata": {},
     "output_type": "execute_result"
    }
   ],
   "source": [
    "#10\n",
    "import pandas as pd\n",
    "\n",
    "ingredients = pd.Series(['Flour','Milk', 'Eggs', 'Spam'], name = 'Ingredients')\n",
    "quantity = pd.Series([ 4 , 1 , 2 , 1 ], name = 'Quantity')\n",
    "unit = pd.Series([ 'cups' , 'cup' , 'large' , 'can' ], name = 'Unit')\n",
    "\n",
    "df = pd.concat([ingredients, quantity, unit], axis=1)\n",
    "\n",
    "df\n",
    "\n"
   ]
  },
  {
   "cell_type": "code",
   "execution_count": 115,
   "metadata": {},
   "outputs": [
    {
     "data": {
      "text/html": [
       "<div>\n",
       "<style scoped>\n",
       "    .dataframe tbody tr th:only-of-type {\n",
       "        vertical-align: middle;\n",
       "    }\n",
       "\n",
       "    .dataframe tbody tr th {\n",
       "        vertical-align: top;\n",
       "    }\n",
       "\n",
       "    .dataframe thead th {\n",
       "        text-align: right;\n",
       "    }\n",
       "</style>\n",
       "<table border=\"1\" class=\"dataframe\">\n",
       "  <thead>\n",
       "    <tr style=\"text-align: right;\">\n",
       "      <th></th>\n",
       "      <th>Name</th>\n",
       "      <th>Height</th>\n",
       "      <th>Qualification</th>\n",
       "      <th>address</th>\n",
       "      <th>Age</th>\n",
       "      <th>Pets</th>\n",
       "      <th>sport</th>\n",
       "    </tr>\n",
       "  </thead>\n",
       "  <tbody>\n",
       "    <tr>\n",
       "      <th>0</th>\n",
       "      <td>Jai</td>\n",
       "      <td>5.1</td>\n",
       "      <td>Msc</td>\n",
       "      <td>Delhi</td>\n",
       "      <td>21</td>\n",
       "      <td>Dog</td>\n",
       "      <td>Darts</td>\n",
       "    </tr>\n",
       "    <tr>\n",
       "      <th>1</th>\n",
       "      <td>janusha</td>\n",
       "      <td>6.2</td>\n",
       "      <td>MA</td>\n",
       "      <td>Doha</td>\n",
       "      <td>23</td>\n",
       "      <td>Bunny</td>\n",
       "      <td>Basketball</td>\n",
       "    </tr>\n",
       "    <tr>\n",
       "      <th>2</th>\n",
       "      <td>Gaurav</td>\n",
       "      <td>5.1</td>\n",
       "      <td>Msc</td>\n",
       "      <td>Chennai</td>\n",
       "      <td>24</td>\n",
       "      <td>Chinchilla</td>\n",
       "      <td>PaddleBoarding</td>\n",
       "    </tr>\n",
       "    <tr>\n",
       "      <th>3</th>\n",
       "      <td>Anuj</td>\n",
       "      <td>5.2</td>\n",
       "      <td>Msc</td>\n",
       "      <td>Dakhar</td>\n",
       "      <td>21</td>\n",
       "      <td>Parrot</td>\n",
       "      <td>Cricket</td>\n",
       "    </tr>\n",
       "  </tbody>\n",
       "</table>\n",
       "</div>"
      ],
      "text/plain": [
       "      Name  Height Qualification  address  Age        Pets           sport\n",
       "0      Jai     5.1           Msc    Delhi   21         Dog           Darts\n",
       "1  janusha     6.2            MA     Doha   23       Bunny      Basketball\n",
       "2   Gaurav     5.1           Msc  Chennai   24  Chinchilla  PaddleBoarding\n",
       "3     Anuj     5.2           Msc   Dakhar   21      Parrot         Cricket"
      ]
     },
     "execution_count": 115,
     "metadata": {},
     "output_type": "execute_result"
    }
   ],
   "source": [
    "#11\n",
    "data =     {'Name': ['Jai', 'janusha', 'Gaurav', 'Anuj'],\n",
    "        'Height': [5.1, 6.2, 5.1, 5.2],\n",
    "        'Qualification': ['Msc', 'MA', 'Msc', 'Msc'],\n",
    "        'address': ['Delhi', 'Doha', 'Chennai', 'Dakhar'],\n",
    "        'Age': [21, 23, 24, 21],\n",
    "        'Pets': ['Dog', 'Bunny', 'Chinchilla', 'Parrot'],\n",
    "        'sport': ['Darts', 'Basketball', 'PaddleBoarding', 'Cricket']\n",
    "    }\n",
    "studentData = pd. DataFrame(data)\n",
    "studentData"
   ]
  },
  {
   "cell_type": "code",
   "execution_count": 119,
   "metadata": {},
   "outputs": [
    {
     "data": {
      "text/html": [
       "<div>\n",
       "<style scoped>\n",
       "    .dataframe tbody tr th:only-of-type {\n",
       "        vertical-align: middle;\n",
       "    }\n",
       "\n",
       "    .dataframe tbody tr th {\n",
       "        vertical-align: top;\n",
       "    }\n",
       "\n",
       "    .dataframe thead th {\n",
       "        text-align: right;\n",
       "    }\n",
       "</style>\n",
       "<table border=\"1\" class=\"dataframe\">\n",
       "  <thead>\n",
       "    <tr style=\"text-align: right;\">\n",
       "      <th></th>\n",
       "      <th>Name</th>\n",
       "      <th>Height</th>\n",
       "      <th>Qualification</th>\n",
       "      <th>address</th>\n",
       "      <th>Age</th>\n",
       "      <th>Pets</th>\n",
       "      <th>sport</th>\n",
       "      <th>Deserts</th>\n",
       "    </tr>\n",
       "  </thead>\n",
       "  <tbody>\n",
       "    <tr>\n",
       "      <th>0</th>\n",
       "      <td>Jai</td>\n",
       "      <td>5.1</td>\n",
       "      <td>Msc</td>\n",
       "      <td>Delhi</td>\n",
       "      <td>21</td>\n",
       "      <td>Dog</td>\n",
       "      <td>Darts</td>\n",
       "      <td>ice cream</td>\n",
       "    </tr>\n",
       "    <tr>\n",
       "      <th>1</th>\n",
       "      <td>janusha</td>\n",
       "      <td>6.2</td>\n",
       "      <td>MA</td>\n",
       "      <td>Doha</td>\n",
       "      <td>23</td>\n",
       "      <td>Bunny</td>\n",
       "      <td>Basketball</td>\n",
       "      <td>Cashew Fudge</td>\n",
       "    </tr>\n",
       "    <tr>\n",
       "      <th>2</th>\n",
       "      <td>Gaurav</td>\n",
       "      <td>5.1</td>\n",
       "      <td>Msc</td>\n",
       "      <td>Chennai</td>\n",
       "      <td>24</td>\n",
       "      <td>Chinchilla</td>\n",
       "      <td>PaddleBoarding</td>\n",
       "      <td>waffels</td>\n",
       "    </tr>\n",
       "    <tr>\n",
       "      <th>3</th>\n",
       "      <td>Anuj</td>\n",
       "      <td>5.2</td>\n",
       "      <td>Msc</td>\n",
       "      <td>Dakhar</td>\n",
       "      <td>21</td>\n",
       "      <td>Parrot</td>\n",
       "      <td>Cricket</td>\n",
       "      <td>Carrot Halwa</td>\n",
       "    </tr>\n",
       "  </tbody>\n",
       "</table>\n",
       "</div>"
      ],
      "text/plain": [
       "      Name  Height Qualification  address  Age        Pets           sport  \\\n",
       "0      Jai     5.1           Msc    Delhi   21         Dog           Darts   \n",
       "1  janusha     6.2            MA     Doha   23       Bunny      Basketball   \n",
       "2   Gaurav     5.1           Msc  Chennai   24  Chinchilla  PaddleBoarding   \n",
       "3     Anuj     5.2           Msc   Dakhar   21      Parrot         Cricket   \n",
       "\n",
       "        Deserts  \n",
       "0     ice cream  \n",
       "1  Cashew Fudge  \n",
       "2       waffels  \n",
       "3  Carrot Halwa  "
      ]
     },
     "execution_count": 119,
     "metadata": {},
     "output_type": "execute_result"
    }
   ],
   "source": [
    "#12 add new collumn to dataframe studentData\n",
    "\n",
    "deserts= [\"ice cream\", \"Cashew Fudge\", \"waffels\", \"Carrot Halwa\"]\n",
    "\n",
    "studentData['Deserts'] = deserts\n",
    "studentData"
   ]
  },
  {
   "cell_type": "code",
   "execution_count": 123,
   "metadata": {},
   "outputs": [
    {
     "data": {
      "text/html": [
       "<div>\n",
       "<style scoped>\n",
       "    .dataframe tbody tr th:only-of-type {\n",
       "        vertical-align: middle;\n",
       "    }\n",
       "\n",
       "    .dataframe tbody tr th {\n",
       "        vertical-align: top;\n",
       "    }\n",
       "\n",
       "    .dataframe thead th {\n",
       "        text-align: right;\n",
       "    }\n",
       "</style>\n",
       "<table border=\"1\" class=\"dataframe\">\n",
       "  <thead>\n",
       "    <tr style=\"text-align: right;\">\n",
       "      <th></th>\n",
       "      <th>Name</th>\n",
       "      <th>Height</th>\n",
       "      <th>Qualification</th>\n",
       "      <th>address</th>\n",
       "      <th>Age</th>\n",
       "      <th>Pets</th>\n",
       "      <th>sport</th>\n",
       "      <th>Deserts</th>\n",
       "    </tr>\n",
       "  </thead>\n",
       "  <tbody>\n",
       "    <tr>\n",
       "      <th>3</th>\n",
       "      <td>Anuj</td>\n",
       "      <td>5.2</td>\n",
       "      <td>Msc</td>\n",
       "      <td>Dakhar</td>\n",
       "      <td>21</td>\n",
       "      <td>Parrot</td>\n",
       "      <td>Cricket</td>\n",
       "      <td>Carrot Halwa</td>\n",
       "    </tr>\n",
       "    <tr>\n",
       "      <th>2</th>\n",
       "      <td>Gaurav</td>\n",
       "      <td>5.1</td>\n",
       "      <td>Msc</td>\n",
       "      <td>Chennai</td>\n",
       "      <td>24</td>\n",
       "      <td>Chinchilla</td>\n",
       "      <td>PaddleBoarding</td>\n",
       "      <td>waffels</td>\n",
       "    </tr>\n",
       "    <tr>\n",
       "      <th>0</th>\n",
       "      <td>Jai</td>\n",
       "      <td>5.1</td>\n",
       "      <td>Msc</td>\n",
       "      <td>Delhi</td>\n",
       "      <td>21</td>\n",
       "      <td>Dog</td>\n",
       "      <td>Darts</td>\n",
       "      <td>ice cream</td>\n",
       "    </tr>\n",
       "    <tr>\n",
       "      <th>1</th>\n",
       "      <td>janusha</td>\n",
       "      <td>6.2</td>\n",
       "      <td>MA</td>\n",
       "      <td>Doha</td>\n",
       "      <td>23</td>\n",
       "      <td>Bunny</td>\n",
       "      <td>Basketball</td>\n",
       "      <td>Cashew Fudge</td>\n",
       "    </tr>\n",
       "  </tbody>\n",
       "</table>\n",
       "</div>"
      ],
      "text/plain": [
       "      Name  Height Qualification  address  Age        Pets           sport  \\\n",
       "3     Anuj     5.2           Msc   Dakhar   21      Parrot         Cricket   \n",
       "2   Gaurav     5.1           Msc  Chennai   24  Chinchilla  PaddleBoarding   \n",
       "0      Jai     5.1           Msc    Delhi   21         Dog           Darts   \n",
       "1  janusha     6.2            MA     Doha   23       Bunny      Basketball   \n",
       "\n",
       "        Deserts  \n",
       "3  Carrot Halwa  \n",
       "2       waffels  \n",
       "0     ice cream  \n",
       "1  Cashew Fudge  "
      ]
     },
     "execution_count": 123,
     "metadata": {},
     "output_type": "execute_result"
    }
   ],
   "source": [
    "#13 Sort the 'studentData' DataFrame in Ascending order -- Sorting by column 'Name' and then \"address\"\n",
    "\n",
    "studentData.sort_values(by = ['Name', 'address'], inplace = True)\n",
    "studentData"
   ]
  },
  {
   "cell_type": "code",
   "execution_count": 128,
   "metadata": {},
   "outputs": [
    {
     "name": "stdout",
     "output_type": "stream",
     "text": [
      "  Unnamed: 0  Cows  Goats\n",
      "0     Year 1    12     22\n",
      "1     Year 2    20     19\n"
     ]
    }
   ],
   "source": [
    "#14 Save this DataFrame here below to disc as a .CSV file with the name cows_and_goats.csv:\n",
    "\n",
    "df = pd.DataFrame({'Cows': [12, 20], 'Goats': [22, 19]}, index=['Year 1', 'Year 2'])\n",
    "\n",
    "df.to_csv('dfhomework5.csv', index=True)\n",
    "df = pd.read_csv('dfhomework5.csv')\n",
    "print(df)"
   ]
  },
  {
   "cell_type": "code",
   "execution_count": 152,
   "metadata": {},
   "outputs": [
    {
     "name": "stdout",
     "output_type": "stream",
     "text": [
      "   Vegetable  Serving size  Potassium mg  Vitamin A %DV  Vitamin C %DV\n",
      "0  Asparagus      5 Spears           230             10             15\n",
      "1     Carror  1 of 7\" long           250            110             10\n",
      "2   Cucumber    1/3 Medium           140              4             10\n",
      "3      Onion      1 Medium           190              0             20\n"
     ]
    }
   ],
   "source": [
    "#15(A) Using Pandas, make your own .CSV file with data on vegetables and save it. (B) Using Pandas, make a change to your CSV file, \n",
    "#and save a copy with a different name.\n",
    "\n",
    "#Create data on vegetables\n",
    "\n",
    "vegetable = pd.Series (['Asparagus', 'Carror', 'Cucumber' , 'Onion'], name=\"Vegetable\")\n",
    "servingSize = pd.Series (['5 Spears', '1 of 7\" long', '1/3 Medium', '1 Medium'], name='Serving size')\n",
    "potassium = pd.Series ([230 , 250, 140 , 190], name='Potassium mg')\n",
    "vitamina= pd.Series ([10, 110, 4, 0], name='Vitamin A %DV')\n",
    "vitaminc= pd.Series ([15, 10, 10, 20], name=\"Vitamin C %DV\")\n",
    "\n",
    "vegdata= pd.concat ([vegetable, servingSize, potassium,vitamina,vitaminc], axis=1)\n",
    "\n",
    "#save as csv file\n",
    "vegdata.to_csv('vegetable.csv', index=False)\n",
    "vegdata = pd.read_csv('vegetable.csv')\n",
    "print(vegdata)\n"
   ]
  },
  {
   "cell_type": "code",
   "execution_count": 160,
   "metadata": {},
   "outputs": [
    {
     "data": {
      "text/html": [
       "<div>\n",
       "<style scoped>\n",
       "    .dataframe tbody tr th:only-of-type {\n",
       "        vertical-align: middle;\n",
       "    }\n",
       "\n",
       "    .dataframe tbody tr th {\n",
       "        vertical-align: top;\n",
       "    }\n",
       "\n",
       "    .dataframe thead th {\n",
       "        text-align: right;\n",
       "    }\n",
       "</style>\n",
       "<table border=\"1\" class=\"dataframe\">\n",
       "  <thead>\n",
       "    <tr style=\"text-align: right;\">\n",
       "      <th></th>\n",
       "      <th>Vegetable</th>\n",
       "      <th>Calories</th>\n",
       "      <th>Calories.1</th>\n",
       "      <th>Serving size</th>\n",
       "      <th>Potassium mg</th>\n",
       "      <th>Vitamin A %DV</th>\n",
       "      <th>Vitamin C %DV</th>\n",
       "    </tr>\n",
       "  </thead>\n",
       "  <tbody>\n",
       "    <tr>\n",
       "      <th>0</th>\n",
       "      <td>Asparagus</td>\n",
       "      <td>20</td>\n",
       "      <td>20</td>\n",
       "      <td>5 Spears</td>\n",
       "      <td>230</td>\n",
       "      <td>10</td>\n",
       "      <td>15</td>\n",
       "    </tr>\n",
       "    <tr>\n",
       "      <th>1</th>\n",
       "      <td>Carror</td>\n",
       "      <td>30</td>\n",
       "      <td>30</td>\n",
       "      <td>1 of 7\" long</td>\n",
       "      <td>250</td>\n",
       "      <td>110</td>\n",
       "      <td>10</td>\n",
       "    </tr>\n",
       "    <tr>\n",
       "      <th>2</th>\n",
       "      <td>Cucumber</td>\n",
       "      <td>10</td>\n",
       "      <td>10</td>\n",
       "      <td>1/3 Medium</td>\n",
       "      <td>140</td>\n",
       "      <td>4</td>\n",
       "      <td>10</td>\n",
       "    </tr>\n",
       "    <tr>\n",
       "      <th>3</th>\n",
       "      <td>Onion</td>\n",
       "      <td>45</td>\n",
       "      <td>45</td>\n",
       "      <td>1 Medium</td>\n",
       "      <td>190</td>\n",
       "      <td>0</td>\n",
       "      <td>20</td>\n",
       "    </tr>\n",
       "  </tbody>\n",
       "</table>\n",
       "</div>"
      ],
      "text/plain": [
       "   Vegetable  Calories  Calories.1  Serving size  Potassium mg  Vitamin A %DV  \\\n",
       "0  Asparagus        20          20      5 Spears           230             10   \n",
       "1     Carror        30          30  1 of 7\" long           250            110   \n",
       "2   Cucumber        10          10    1/3 Medium           140              4   \n",
       "3      Onion        45          45      1 Medium           190              0   \n",
       "\n",
       "   Vitamin C %DV  \n",
       "0             15  \n",
       "1             10  \n",
       "2             10  \n",
       "3             20  "
      ]
     },
     "execution_count": 160,
     "metadata": {},
     "output_type": "execute_result"
    }
   ],
   "source": [
    "vegdata2= vegdata\n",
    "vegdata2.insert(1, \"Calories\", [20,30,10,45], True)\n",
    "vegdata2.to_csv('vegetable2.csv', index=False)\n",
    "vegdata2 = pd.read_csv('vegetable2.csv')\n",
    "vegdata2"
   ]
  }
 ],
 "metadata": {
  "kernelspec": {
   "display_name": "Python 3",
   "language": "python",
   "name": "python3"
  },
  "language_info": {
   "codemirror_mode": {
    "name": "ipython",
    "version": 3
   },
   "file_extension": ".py",
   "mimetype": "text/x-python",
   "name": "python",
   "nbconvert_exporter": "python",
   "pygments_lexer": "ipython3",
   "version": "3.11.1"
  },
  "orig_nbformat": 4,
  "vscode": {
   "interpreter": {
    "hash": "aee8b7b246df8f9039afb4144a1f6fd8d2ca17a180786b69acc140d282b71a49"
   }
  }
 },
 "nbformat": 4,
 "nbformat_minor": 2
}
