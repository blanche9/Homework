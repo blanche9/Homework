{
 "cells": [
  {
   "cell_type": "code",
   "execution_count": 19,
   "metadata": {},
   "outputs": [
    {
     "name": "stdout",
     "output_type": "stream",
     "text": [
      "['apple', 3.1415, 369, False, [1, 2, 3]]\n",
      "['strawberry', 3.1415, 369, False, [1, 2, 3]]\n",
      "['strawberry', 3.1415, 369, False, [1, 2, 3], [(4, 5, 6), 'caramel', 'coffee']]\n",
      "[[1, 2, 3], [(4, 5, 6), 'caramel', 'coffee']]\n",
      "[3, 6, 9, 12, 15]\n",
      "[(4, 5, 6), 'caramel', 'coffee', 3, 6, 9, 12, 15]\n"
     ]
    }
   ],
   "source": [
    "#Create a list of 5 elements of mixed data types\n",
    "\n",
    "lst = [\"apple\", 3.1415, 369, False, [1,2,3]]\n",
    "print (lst)\n",
    "#replace a part of ir with something else \n",
    "\n",
    "lst[0]= \"strawberry\"\n",
    "print (lst)\n",
    "\n",
    "#append or insert elemements to list\n",
    "lst2= [(4,5,6), \"caramel\", \"coffee\" ]\n",
    "lst.append(lst2)\n",
    "print(lst)\n",
    "\n",
    "#slice a subsection of the 1st list, and save it to a 2nd list\n",
    "list2= lst[4:]\n",
    "print(list2)\n",
    "\n",
    "#create a new list \n",
    "simList = [ 12 , 9 , 3 , 15 , 6 ]\n",
    "simList.sort()\n",
    "print(simList)\n",
    "lst3= simList.copy()\n",
    "\n",
    "lst4= lst2 + lst3\n",
    "print(lst4)\n",
    "\n",
    "\n",
    "\n",
    "\n"
   ]
  },
  {
   "cell_type": "code",
   "execution_count": 49,
   "metadata": {},
   "outputs": [
    {
     "name": "stdout",
     "output_type": "stream",
     "text": [
      "('cat', 'dog', 'rabbit', 'ferret', 'parrot', 'cat', 'dog', 'rabbit', 'ferret', 'parrot', 'cat', 'dog', 'rabbit', 'ferret', 'parrot')\n",
      "dog\n",
      "['cat', 'cat', 'cat', 'dog', 'dog', 'dog', 'ferret', 'ferret', 'ferret', 'parrot', 'parrot', 'parrot', 'rabbit', 'rabbit', 'rabbit']\n",
      "['dog', 'dog', 'ferret', 'ferret']\n",
      "black dog ,brown dog ,small ferret ,big ferret\n",
      "50\n",
      "['cat', 'cat', 'cat', 'dog', 'dog', 'dog', 'ferret', 'ferret', 'ferret', 'parrot', 'parrot', 'parrot', 'rabbit', 'rabbit', 'rabbit', 'dog', 'dog', 'ferret', 'ferret']\n"
     ]
    }
   ],
   "source": [
    "#create a tupple of about 5 elements\n",
    "tuple = (\"cat\", \"dog\", \"rabbit\", \"ferret\", \"parrot\")\n",
    "\n",
    "tuple2= tuple * 3\n",
    "print(tuple2 )\n",
    "\n",
    "print (tuple2[11])\n",
    "tuple2=sorted(tuple2)\n",
    "print(tuple2)\n",
    "\n",
    "import copy \n",
    "\n",
    "tuple3= copy.deepcopy(tuple2[4:8])\n",
    "\n",
    "print (tuple3)\n",
    "\n",
    "#unpack 3rd tuple into 4 variables and print\n",
    "\n",
    "(black, brown, small, big) = tuple3\n",
    "print(\"black\", black, \",brown\", brown, \",small\", small, \",big\", big)\n",
    "\n",
    "tuple4 = (50)\n",
    "print(tuple4)\n",
    "\n",
    "tuple5 = tuple2 + tuple3\n",
    "print(tuple5)\n"
   ]
  },
  {
   "cell_type": "code",
   "execution_count": 66,
   "metadata": {},
   "outputs": [
    {
     "name": "stdout",
     "output_type": "stream",
     "text": [
      "{'banana', 'dog', 'cat', 'strawberry', 'kiwi', 'raspberry', 'monkey'}\n",
      "{'banana', 'dog', 'cat', 'strawberry', 'kiwi', 'raspberry', 'car', 'monkey'}\n",
      "{'banana', 3, 'dog', 'cat', 7, 9, 'strawberry', 'kiwi', 'raspberry', 'car', 'monkey'}\n",
      "{3, 7}\n",
      "set()\n",
      "{'banana', 'cat', 7, 9, 'strawberry', 'kiwi', 'raspberry', 'car', 'monkey'}\n"
     ]
    }
   ],
   "source": [
    "#4 create a set of 3 elements\n",
    "\n",
    "set1= {\"cat\", \"dog\", \"monkey\"}\n",
    "fruits= [\"banana\", \"strawberry\", \"raspberry\", \"kiwi\"]\n",
    "#add fruit list to set1\n",
    "set1.update(fruits)\n",
    "print(set1)\n",
    "#add a car element to set1\n",
    "set1.add(\"car\")\n",
    "print(set1)\n",
    "#create set2 with a few odd items\n",
    "set2 = {3,7,9}\n",
    "#save union of set1 and set2 in set3\n",
    "set3= set1.union(set2)\n",
    "print(set3)\n",
    "#pop an element from the 2nd set, and print the remainder of the set\n",
    "set2.pop()\n",
    "print(set2)\n",
    "#clear set1 and print result\n",
    "set1.clear()\n",
    "print(set1)\n",
    "#discard an element, and remove another element from the 3rd set and print remainder\n",
    "set3.discard(3)\n",
    "set3.remove(\"dog\")\n",
    "print(set3)\n",
    "\n"
   ]
  },
  {
   "cell_type": "code",
   "execution_count": 1,
   "metadata": {},
   "outputs": [
    {
     "name": "stdout",
     "output_type": "stream",
     "text": [
      "{'height': '5\\'4\"', 'weight': 130, 'eyecolor': 'brown', 'haircolor': 'brown', 'zodiacsign': 'sagitarius'}\n",
      "130\n",
      "{'height': 'Blanche', 'weight': 130, 'eyecolor': 'brown', 'haircolor': 'brown', 'zodiacsign': 'sagitarius'}\n",
      "{'height': 'Blanche', 'weight': 130, 'eyecolor': 'brown', 'haircolor': 'brown', 'zodiacsign': 'sagitarius', 'favcolor': 'grey'}\n",
      "dict_keys(['height', 'weight', 'eyecolor', 'haircolor', 'zodiacsign', 'favcolor'])\n",
      "dict_values(['Blanche', 130, 'brown', 'brown', 'sagitarius', 'grey'])\n",
      "{'height': 'Blanche', 'weight': 130, 'eyecolor': 'brown', 'haircolor': 'brown', 'zodiacsign': 'sagitarius', 'favcolor': 'grey'}\n",
      "{'height': 'Blanche', 'weight': 130, 'eyecolor': 'brown', 'haircolor': 'brown', 'zodiacsign': 'sagitarius'}\n",
      "{}\n"
     ]
    }
   ],
   "source": [
    "dictionary= {\n",
    "    \"height\": \"5'4\\\"\",\n",
    "    \"weight\": 130,\n",
    "    \"eyecolor\":\"brown\",\n",
    "    \"haircolor\":\"brown\",\n",
    "    \"zodiacsign\":\"sagitarius\"\n",
    "}\n",
    "print(dictionary)\n",
    "#print one value\n",
    "x =  dictionary.get('weight')\n",
    "print(x)\n",
    "\n",
    "#replace \n",
    "dictionary.update({\"height\":\"Blanche\"})\n",
    "print(dictionary)\n",
    "#add\n",
    "dictionary.update({'favcolor':'grey'})\n",
    "print(dictionary)\n",
    "#add a list to the dictionary\n",
    "\n",
    "#print a list of the dictionary keys\n",
    "keys = dictionary.keys()\n",
    "print(keys)\n",
    "#print a list of the dictionary values\n",
    "values= dictionary.values()\n",
    "print(values)\n",
    "#make a copy of dictionary\n",
    "dictionary2= dictionary.copy()\n",
    "print(dictionary2)\n",
    "#pop\n",
    "dictionary2.pop(\"favcolor\")\n",
    "print(dictionary2)\n",
    "#remove all elements of dictionary 2\n",
    "dictionary2.clear()\n",
    "print(dictionary2)"
   ]
  }
 ],
 "metadata": {
  "kernelspec": {
   "display_name": "Python 3",
   "language": "python",
   "name": "python3"
  },
  "language_info": {
   "codemirror_mode": {
    "name": "ipython",
    "version": 3
   },
   "file_extension": ".py",
   "mimetype": "text/x-python",
   "name": "python",
   "nbconvert_exporter": "python",
   "pygments_lexer": "ipython3",
   "version": "3.11.1"
  },
  "orig_nbformat": 4,
  "vscode": {
   "interpreter": {
    "hash": "aee8b7b246df8f9039afb4144a1f6fd8d2ca17a180786b69acc140d282b71a49"
   }
  }
 },
 "nbformat": 4,
 "nbformat_minor": 2
}
