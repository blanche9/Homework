{
 "cells": [
  {
   "attachments": {},
   "cell_type": "markdown",
   "metadata": {},
   "source": [
    "1. __What is an Algorithm?__ \n",
    "\n",
    "     An algorithm is a process that the computer follows to solve an specific problem.\n",
    "1. __Why is Python considered to be a high-level language?__\n",
    "\n",
    "    Because it is easy for humans to understand.\n",
    "1. __Is Python a Natural or a Formal language?__\n",
    "\n",
    "    Formal Language.\n",
    "1. __What kind of language is Python considered?__\n",
    "\n",
    "    Python is an interpreted OOP language.\n",
    "1. __Variable names may not start with certain characters - name two.__\n",
    "    Number and characters.\n",
    "1. __What is a Semantic error?__\n",
    "\n",
    "    The code is grammatically correct but doesn't make any sense; it does not produce the expected results.\n",
    "1. __What is the #1 rule of coding / debugging?__\n",
    "\n",
    "    The #1 Rule: Complexity is the enemy of efficiency!\n",
    "\n",
    "1. __List 5 python reserved words.__    \n",
    "    * FALSE\n",
    "    * TRUE\n",
    "    * For\n",
    "    * or\n",
    "    * and\n",
    "\n",
    "[10 Best Phyton Libraries and Tools for Web Scraping in 2023][Homework Article]\n",
    "\n",
    "[Homework Article]: https://www.analyticsinsight.net/10-best-python-libraries-and-tools-for-web-scraping-in-2023/ \"HomeworK Article\"\n",
    "\n"
   ]
  },
  {
   "cell_type": "code",
   "execution_count": 1,
   "metadata": {},
   "outputs": [
    {
     "name": "stdout",
     "output_type": "stream",
     "text": [
      "3\n"
     ]
    }
   ],
   "source": [
    "#My name is Blanche Horbach \n",
    "#My favorite food is Sushi\n",
    "#My dream job is to work as a Data Analyst for a financial institution \n",
    "\n",
    "#assign 5 different data types to 5 different variables. \n",
    "a = \"Blanche\"  \n",
    "b = 20\n",
    "c = 20.5\n",
    "d = True\n",
    "e = [1,2,3]\n",
    "\n",
    "#print the index value of the 4th character of you string. \n",
    "x = a.index(\"n\")\n",
    "print(x)"
   ]
  },
  {
   "cell_type": "code",
   "execution_count": 3,
   "metadata": {},
   "outputs": [
    {
     "name": "stdout",
     "output_type": "stream",
     "text": [
      "ing Data Analytics \n",
      "Learning Data Analytics and Python is great!\n",
      "Learning Data Analytics and Python is Awesome! True\n"
     ]
    }
   ],
   "source": [
    "\n",
    "\n",
    "#create a new variable called savvy, and assign it the string with this phrase \n",
    "# \"Learning Data Analytics and Python is Awesome!\"\n",
    "\n",
    "savvy = \"Learning Data Analytics and Python is Awesome!\"\n",
    "y = savvy.index(\"ing\")\n",
    "z = savvy.index(\"and\")\n",
    "print (savvy[y:z])\n",
    "\n",
    "w = savvy.replace(\"Awesome\", \"great\")\n",
    "print (w)\n",
    "\n",
    "if \"Python\" in savvy:\n",
    "    print(savvy, \"True\")\n",
    "\n",
    "\n"
   ]
  },
  {
   "cell_type": "code",
   "execution_count": 5,
   "metadata": {},
   "outputs": [
    {
     "name": "stdout",
     "output_type": "stream",
     "text": [
      "Hi my name is Blanche, I am  5'4\" and 29 years old today.\n",
      "29.0\n"
     ]
    }
   ],
   "source": [
    "#Create and assign 3 more variables \n",
    "name = \"Blanche\"\n",
    "age = \"29\"\n",
    "length = \" 5\\'4\\\" \" \n",
    "miniBio = \"Hi my name is \" + name + \", I am \" + length + \"and \" + age + \" years old today.\"\n",
    "print (miniBio)\n",
    "\n",
    "age = float (29)\n",
    "print (age)"
   ]
  }
 ],
 "metadata": {
  "kernelspec": {
   "display_name": "Python 3",
   "language": "python",
   "name": "python3"
  },
  "language_info": {
   "codemirror_mode": {
    "name": "ipython",
    "version": 3
   },
   "file_extension": ".py",
   "mimetype": "text/x-python",
   "name": "python",
   "nbconvert_exporter": "python",
   "pygments_lexer": "ipython3",
   "version": "3.11.1"
  },
  "orig_nbformat": 4,
  "vscode": {
   "interpreter": {
    "hash": "aee8b7b246df8f9039afb4144a1f6fd8d2ca17a180786b69acc140d282b71a49"
   }
  }
 },
 "nbformat": 4,
 "nbformat_minor": 2
}
