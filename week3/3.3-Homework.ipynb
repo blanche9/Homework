{
 "cells": [
  {
   "cell_type": "code",
   "execution_count": 10,
   "metadata": {},
   "outputs": [
    {
     "name": "stdout",
     "output_type": "stream",
     "text": [
      "Renting a car is more affordable\n"
     ]
    }
   ],
   "source": [
    "age=25\n",
    "if age >=25:\n",
    "    print(\"Renting a car is more affordable\")\n",
    "else:\n",
    "    print(\"Renting a car is more expensive\")"
   ]
  },
  {
   "cell_type": "code",
   "execution_count": 14,
   "metadata": {},
   "outputs": [
    {
     "name": "stdout",
     "output_type": "stream",
     "text": [
      "You cannot legally rent a car.\n"
     ]
    }
   ],
   "source": [
    "age=17\n",
    "if age >=25:\n",
    "    print(\"Renting a car is more affordable\")\n",
    "if age >=18 and age <24:\n",
    "    print(\"Renting a car is more expensive\")\n",
    "else:\n",
    "    print ( \"You cannot legally rent a car.\")"
   ]
  },
  {
   "cell_type": "code",
   "execution_count": 21,
   "metadata": {},
   "outputs": [
    {
     "name": "stdout",
     "output_type": "stream",
     "text": [
      "43\n",
      "e\n",
      "u\n",
      "i\n",
      "o\n",
      "o\n",
      "u\n",
      "o\n",
      "e\n",
      "e\n",
      "a\n",
      "o\n"
     ]
    }
   ],
   "source": [
    "string= \"The quick brown fox jumps over the lazy dog\"\n",
    "count=0\n",
    "for char in string:\n",
    "    count= count+1\n",
    "print(count)\n",
    "\n",
    "for char in string:\n",
    "    if char == 'a' or char=='e' or char=='i' or char=='o' or char=='u':\n",
    "        print(char)\n",
    "    else: continue\n"
   ]
  },
  {
   "cell_type": "code",
   "execution_count": 22,
   "metadata": {},
   "outputs": [
    {
     "name": "stdout",
     "output_type": "stream",
     "text": [
      "trousers cerise\n",
      "trousers maple\n",
      "trousers Dark Sapphire\n",
      "trousers auburn\n",
      "trousers burnt sienna\n",
      "trousers fuchsia\n",
      "trousers gunmetal blue\n",
      "trousers aqua\n",
      "blouse cerise\n",
      "blouse maple\n",
      "blouse Dark Sapphire\n",
      "blouse auburn\n",
      "blouse burnt sienna\n",
      "blouse fuchsia\n",
      "blouse gunmetal blue\n",
      "blouse aqua\n",
      "bandana cerise\n",
      "bandana maple\n",
      "bandana Dark Sapphire\n",
      "bandana auburn\n",
      "bandana burnt sienna\n",
      "bandana fuchsia\n",
      "bandana gunmetal blue\n",
      "bandana aqua\n",
      "cumber band cerise\n",
      "cumber band maple\n",
      "cumber band Dark Sapphire\n",
      "cumber band auburn\n",
      "cumber band burnt sienna\n",
      "cumber band fuchsia\n",
      "cumber band gunmetal blue\n",
      "cumber band aqua\n",
      "blazer cerise\n",
      "blazer maple\n",
      "blazer Dark Sapphire\n",
      "blazer auburn\n",
      "blazer burnt sienna\n",
      "blazer fuchsia\n",
      "blazer gunmetal blue\n",
      "blazer aqua\n",
      "vest cerise\n",
      "vest maple\n",
      "vest Dark Sapphire\n",
      "vest auburn\n",
      "vest burnt sienna\n",
      "vest fuchsia\n",
      "vest gunmetal blue\n",
      "vest aqua\n",
      "french beret cerise\n",
      "french beret maple\n",
      "french beret Dark Sapphire\n",
      "french beret auburn\n",
      "french beret burnt sienna\n",
      "french beret fuchsia\n",
      "french beret gunmetal blue\n",
      "french beret aqua\n",
      "scarf cerise\n",
      "scarf maple\n",
      "scarf Dark Sapphire\n",
      "scarf auburn\n",
      "scarf burnt sienna\n",
      "scarf fuchsia\n",
      "scarf gunmetal blue\n",
      "scarf aqua\n",
      "stole cerise\n",
      "stole maple\n",
      "stole Dark Sapphire\n",
      "stole auburn\n",
      "stole burnt sienna\n",
      "stole fuchsia\n",
      "stole gunmetal blue\n",
      "stole aqua\n"
     ]
    }
   ],
   "source": [
    "couture = [\"trousers\", \"blouse\", \"bandana\", \"cumber band\", \"blazer\", \"vest\", \"french beret\", \"scarf\", \"stole\"]\n",
    "panettone = {\"cerise\", \"fuchsia\", \"aqua\", \"maple\", \"auburn\", \"burnt sienna\", \"gunmetal blue\", \"Dark Sapphire\"}\n",
    "\n",
    "for i in couture:\n",
    "    for j in panettone:\n",
    "        print(i,j)"
   ]
  },
  {
   "cell_type": "code",
   "execution_count": 24,
   "metadata": {},
   "outputs": [
    {
     "name": "stdout",
     "output_type": "stream",
     "text": [
      "4950\n"
     ]
    }
   ],
   "source": [
    "sum=0\n",
    "for i in range (100):\n",
    "    sum= sum+i\n",
    "print(sum)"
   ]
  },
  {
   "cell_type": "code",
   "execution_count": 25,
   "metadata": {},
   "outputs": [
    {
     "name": "stdout",
     "output_type": "stream",
     "text": [
      "banana\n"
     ]
    }
   ],
   "source": [
    "list=[\"apple\", \"banana\", \"cherry\"]\n",
    "print(list[1])"
   ]
  },
  {
   "cell_type": "code",
   "execution_count": 27,
   "metadata": {},
   "outputs": [
    {
     "name": "stdout",
     "output_type": "stream",
     "text": [
      "['kiwi', 'banana', 'cherry']\n"
     ]
    }
   ],
   "source": [
    "list=[\"apple\", \"banana\", \"cherry\"]\n",
    "list[0]= \"kiwi\"\n",
    "print(list)"
   ]
  },
  {
   "cell_type": "code",
   "execution_count": 29,
   "metadata": {},
   "outputs": [
    {
     "name": "stdout",
     "output_type": "stream",
     "text": [
      "['apple', 'banana', 'cherry', 'orange']\n"
     ]
    }
   ],
   "source": [
    "list=[\"apple\", \"banana\", \"cherry\"]\n",
    "list.append('orange')\n",
    "print(list)"
   ]
  },
  {
   "cell_type": "code",
   "execution_count": 31,
   "metadata": {},
   "outputs": [
    {
     "name": "stdout",
     "output_type": "stream",
     "text": [
      "['apple', 'lemon', 'banana', 'cherry']\n"
     ]
    }
   ],
   "source": [
    "list=[\"apple\", \"banana\", \"cherry\"]\n",
    "list.insert(1,'lemon')\n",
    "print(list)"
   ]
  },
  {
   "cell_type": "code",
   "execution_count": 32,
   "metadata": {},
   "outputs": [
    {
     "name": "stdout",
     "output_type": "stream",
     "text": [
      "['apple', 'cherry']\n"
     ]
    }
   ],
   "source": [
    "list=[\"apple\", \"banana\", \"cherry\"]\n",
    "list.remove('banana')\n",
    "print(list)"
   ]
  },
  {
   "cell_type": "code",
   "execution_count": 36,
   "metadata": {},
   "outputs": [
    {
     "name": "stdout",
     "output_type": "stream",
     "text": [
      "melon\n",
      "kiwi\n"
     ]
    }
   ],
   "source": [
    "list=[\"apple\", \"banana\", \"cherry\", \"orange\", \"kiwi\", \"melon\", \"mango\"]\n",
    "print(list[-2])\n",
    "print(list[-3])"
   ]
  },
  {
   "cell_type": "code",
   "execution_count": 38,
   "metadata": {},
   "outputs": [
    {
     "name": "stdout",
     "output_type": "stream",
     "text": [
      "['cherry', 'orange', 'kiwi']\n"
     ]
    }
   ],
   "source": [
    "list=[\"apple\", \"banana\", \"cherry\", \"orange\", \"kiwi\", \"melon\", \"mango\"]\n",
    "print(list[2:5])"
   ]
  },
  {
   "cell_type": "code",
   "execution_count": 39,
   "metadata": {},
   "outputs": [
    {
     "name": "stdout",
     "output_type": "stream",
     "text": [
      "7\n"
     ]
    }
   ],
   "source": [
    "list=[\"apple\", \"banana\", \"cherry\", \"orange\", \"kiwi\", \"melon\", \"mango\"]\n",
    "print(len(list))"
   ]
  },
  {
   "cell_type": "code",
   "execution_count": 42,
   "metadata": {},
   "outputs": [
    {
     "name": "stdout",
     "output_type": "stream",
     "text": [
      "['orange', 'melon', 'mango', 'kiwi', 'cherry', 'banana', 'apple']\n"
     ]
    }
   ],
   "source": [
    "list=[\"apple\", \"banana\", \"cherry\", \"orange\", \"kiwi\", \"melon\", \"mango\"]\n",
    "list.sort(reverse=True)\n",
    "print(list)"
   ]
  }
 ],
 "metadata": {
  "kernelspec": {
   "display_name": "Python 3",
   "language": "python",
   "name": "python3"
  },
  "language_info": {
   "codemirror_mode": {
    "name": "ipython",
    "version": 3
   },
   "file_extension": ".py",
   "mimetype": "text/x-python",
   "name": "python",
   "nbconvert_exporter": "python",
   "pygments_lexer": "ipython3",
   "version": "3.11.1"
  },
  "orig_nbformat": 4,
  "vscode": {
   "interpreter": {
    "hash": "aee8b7b246df8f9039afb4144a1f6fd8d2ca17a180786b69acc140d282b71a49"
   }
  }
 },
 "nbformat": 4,
 "nbformat_minor": 2
}
